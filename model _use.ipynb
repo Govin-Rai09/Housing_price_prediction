{
 "cells": [
  {
   "cell_type": "code",
   "execution_count": 1,
   "id": "da57589a",
   "metadata": {},
   "outputs": [],
   "source": [
    "from joblib import dump,load\n",
    "import numpy as np\n",
    "model=load(\"House_Price.joblib\")"
   ]
  },
  {
   "cell_type": "code",
   "execution_count": 3,
   "id": "0959a167",
   "metadata": {},
   "outputs": [
    {
     "data": {
      "text/plain": [
       "array([12.432])"
      ]
     },
     "execution_count": 3,
     "metadata": {},
     "output_type": "execute_result"
    }
   ],
   "source": [
    "feat=np.array([[ 1.31111354, -0.47914112,  1.09091137, -0.27288841,  0.48925206,\n",
    "       -1.42806858,  1.894813572, -0.80217296,  1.70689143,  1.57843444,\n",
    "        0.84534281, -0.07433689,  1.79351779]])\n",
    "model.predict(feat)"
   ]
  },
  {
   "cell_type": "code",
   "execution_count": null,
   "id": "5c36ab15",
   "metadata": {},
   "outputs": [],
   "source": []
  }
 ],
 "metadata": {
  "kernelspec": {
   "display_name": "Python 3",
   "language": "python",
   "name": "python3"
  },
  "language_info": {
   "codemirror_mode": {
    "name": "ipython",
    "version": 3
   },
   "file_extension": ".py",
   "mimetype": "text/x-python",
   "name": "python",
   "nbconvert_exporter": "python",
   "pygments_lexer": "ipython3",
   "version": "3.9.4"
  }
 },
 "nbformat": 4,
 "nbformat_minor": 5
}
