{
 "cells": [
  {
   "cell_type": "markdown",
   "id": "3bd17dc7",
   "metadata": {},
   "source": [
    "# From RandomForestRegrssor"
   ]
  },
  {
   "cell_type": "code",
   "execution_count": 1,
   "id": "faf0fece",
   "metadata": {},
   "outputs": [],
   "source": [
    "#Scores:  [2.93858784 3.41052731 3.7059872  5.56016778 4.54301373 4.23838077\n",
    " #4.06413682 2.56282208 2.59732696 4.82407713]\n",
    "#Mean:  3.8445027625738617\n",
    "#Standard deviation:  0.939187145219136"
   ]
  },
  {
   "cell_type": "markdown",
   "id": "e5085d19",
   "metadata": {},
   "source": [
    "## FROM LinearRegression"
   ]
  },
  {
   "cell_type": "code",
   "execution_count": 2,
   "id": "09cf3093",
   "metadata": {},
   "outputs": [],
   "source": [
    "#Scores:  [4.1746875  5.94063634 4.97499157 4.81766047 4.76250207]\n",
    "#Mean:  4.934095591887459\n",
    "#Standard deviation:  0.5717514987161902"
   ]
  },
  {
   "cell_type": "markdown",
   "id": "6ad349e7",
   "metadata": {},
   "source": [
    "## From DecisonTreeRegressor"
   ]
  },
  {
   "cell_type": "code",
   "execution_count": 3,
   "id": "1a730027",
   "metadata": {},
   "outputs": [],
   "source": [
    "#Scores:  [4.53624634 6.32517994 4.96466527 7.79737214 5.10718856]\n",
    "#Mean:  5.746130450334129\n",
    "#Standard deviation:  1.1853813662890806"
   ]
  }
 ],
 "metadata": {
  "kernelspec": {
   "display_name": "Python 3",
   "language": "python",
   "name": "python3"
  },
  "language_info": {
   "codemirror_mode": {
    "name": "ipython",
    "version": 3
   },
   "file_extension": ".py",
   "mimetype": "text/x-python",
   "name": "python",
   "nbconvert_exporter": "python",
   "pygments_lexer": "ipython3",
   "version": "3.9.4"
  }
 },
 "nbformat": 4,
 "nbformat_minor": 5
}
